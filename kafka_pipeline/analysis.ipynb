{
 "cells": [
  {
   "cell_type": "markdown",
   "metadata": {},
   "source": [
    "# Museum Analysis\n",
    "\n",
    "This notebook connects to the museum database and conducts simple analysis of the data.\n",
    "\n",
    "## Imports"
   ]
  },
  {
   "cell_type": "code",
   "execution_count": 5,
   "metadata": {},
   "outputs": [],
   "source": [
    "import psycopg2\n",
    "import psycopg2.extras\n",
    "import logging\n",
    "from dotenv import dotenv_values"
   ]
  },
  {
   "cell_type": "markdown",
   "metadata": {},
   "source": [
    "## Setup"
   ]
  },
  {
   "cell_type": "code",
   "execution_count": 6,
   "metadata": {},
   "outputs": [
    {
     "name": "stderr",
     "output_type": "stream",
     "text": [
      "INFO: Database connection established.\n"
     ]
    }
   ],
   "source": [
    "logging.basicConfig(level=logging.DEBUG,\n",
    "                    format='%(levelname)s: %(message)s')\n",
    "\n",
    "\n",
    "def get_connection():\n",
    "    \"\"\"Establishes and returns a connection to the PostgreSQL database.\"\"\"\n",
    "    db_config = dotenv_values(\".env\")\n",
    "    try:\n",
    "        conn = psycopg2.connect(\n",
    "            database=db_config['DB_NAME'],\n",
    "            user=db_config['DB_USERNAME'],\n",
    "            password=db_config['DB_PASSWORD'],\n",
    "            host=db_config['DB_HOST'],\n",
    "            port=db_config['DB_PORT']\n",
    "        )\n",
    "        logging.info(\"Database connection established.\")\n",
    "\n",
    "        return conn\n",
    "    except Exception as e:\n",
    "        logging.error(\"Error connecting to the database: %s\", str(e))\n",
    "        return None\n",
    "\n",
    "\n",
    "def get_cursor(conn):\n",
    "    \"\"\"Returns a cursor for the provided connection.\"\"\"\n",
    "    return conn.cursor(cursor_factory=psycopg2.extras.RealDictCursor)\n",
    "\n",
    "\n",
    "conn = get_connection()\n",
    "cursor = get_cursor(conn)"
   ]
  },
  {
   "cell_type": "markdown",
   "metadata": {},
   "source": [
    "## Queries"
   ]
  },
  {
   "cell_type": "markdown",
   "metadata": {},
   "source": [
    "What exhibition is most frequently visited?"
   ]
  },
  {
   "cell_type": "code",
   "execution_count": 7,
   "metadata": {},
   "outputs": [
    {
     "name": "stdout",
     "output_type": "stream",
     "text": [
      "Most Frequently Visited Exhibition: Cetacean Sensations\n",
      "Visit Count: 29\n"
     ]
    }
   ],
   "source": [
    "query = \"\"\"\n",
    "SELECT exhibition.exhibition_name, \n",
    "COUNT(request_interaction.exhibition_id) AS visit_count\n",
    "FROM request_interaction\n",
    "JOIN exhibition ON request_interaction.exhibition_id = exhibition.exhibition_id\n",
    "GROUP BY exhibition.exhibition_name\n",
    "ORDER BY visit_count DESC\n",
    "LIMIT 1;\n",
    "\"\"\"\n",
    "cursor.execute(query)\n",
    "\n",
    "result = cursor.fetchone()\n",
    "\n",
    "print(f\"Most Frequently Visited Exhibition: {result['exhibition_name']}\")\n",
    "print(f\"Visit Count: {result['visit_count']}\")"
   ]
  },
  {
   "cell_type": "markdown",
   "metadata": {},
   "source": [
    "What hour of the day has the most ratings?"
   ]
  },
  {
   "cell_type": "code",
   "execution_count": 8,
   "metadata": {},
   "outputs": [
    {
     "name": "stdout",
     "output_type": "stream",
     "text": [
      "Hour with the Most Ratings: 10:00\n",
      "Number of Ratings: 232\n"
     ]
    }
   ],
   "source": [
    "query = \"\"\"\n",
    "SELECT EXTRACT(HOUR FROM event_at) AS hour, COUNT(rating_interaction.rating_id) AS rating_count\n",
    "FROM rating_interaction\n",
    "GROUP BY hour\n",
    "ORDER BY rating_count DESC\n",
    "LIMIT 1;\n",
    "\"\"\"\n",
    "\n",
    "cursor.execute(query)\n",
    "result = cursor.fetchone()\n",
    "\n",
    "print(f\"Hour with the Most Ratings: {result['hour']}:00\")\n",
    "print(f\"Number of Ratings: {result['rating_count']}\")"
   ]
  },
  {
   "cell_type": "markdown",
   "metadata": {},
   "source": [
    "Exhibition with the Most Emergencies"
   ]
  },
  {
   "cell_type": "code",
   "execution_count": 9,
   "metadata": {},
   "outputs": [
    {
     "name": "stdout",
     "output_type": "stream",
     "text": [
      "Exhibition with the Most Emergencies: The Crenshaw Collection\n",
      "Emergency Count: 2\n"
     ]
    }
   ],
   "source": [
    "query = \"\"\"\n",
    "SELECT exhibition.exhibition_name, \n",
    "COUNT(request_interaction.request_id) AS emergency_count\n",
    "FROM request_interaction\n",
    "JOIN request ON request_interaction.request_id = request.request_id\n",
    "JOIN exhibition ON request_interaction.exhibition_id = exhibition.exhibition_id\n",
    "WHERE request.request_value = 1\n",
    "GROUP BY exhibition.exhibition_name\n",
    "ORDER BY emergency_count DESC\n",
    "LIMIT 1;\n",
    "\"\"\"\n",
    "cursor.execute(query)\n",
    "result = cursor.fetchone()\n",
    "\n",
    "\n",
    "print(f\"Exhibition with the Most Emergencies: {result['exhibition_name']}\")\n",
    "print(f\"Emergency Count: {result['emergency_count']}\")"
   ]
  },
  {
   "cell_type": "markdown",
   "metadata": {},
   "source": [
    "Average Rating for Each Exhibition"
   ]
  },
  {
   "cell_type": "code",
   "execution_count": 10,
   "metadata": {},
   "outputs": [
    {
     "name": "stdout",
     "output_type": "stream",
     "text": [
      "Exhibition: Cetacean Sensations, Average Rating: 2.8305084745762712\n",
      "Exhibition: Adaptation, Average Rating: 1.9294117647058824\n",
      "Exhibition: Measureless to Man, Average Rating: 1.9169435215946844\n",
      "Exhibition: The Crenshaw Collection, Average Rating: 1.4259740259740260\n",
      "Exhibition: Our Polluted World, Average Rating: 1.2162162162162162\n"
     ]
    }
   ],
   "source": [
    "query = \"\"\"\n",
    "SELECT exhibition.exhibition_name, AVG(rating.rating_value) AS average_rating\n",
    "FROM rating_interaction\n",
    "JOIN rating ON rating_interaction.rating_id = rating.rating_id\n",
    "JOIN exhibition ON rating_interaction.exhibition_id = exhibition.exhibition_id\n",
    "GROUP BY exhibition.exhibition_name\n",
    "ORDER BY average_rating DESC;\n",
    "\"\"\"\n",
    "cursor.execute(query)\n",
    "results = cursor.fetchall()\n",
    "\n",
    "for row in results:\n",
    "    print(f\"\"\"Exhibition: {row['exhibition_name']}, Average Rating: {\n",
    "          row['average_rating']}\"\"\")"
   ]
  },
  {
   "cell_type": "markdown",
   "metadata": {},
   "source": [
    "Are positive ratings more frequent before or after 1 pm?"
   ]
  },
  {
   "cell_type": "code",
   "execution_count": 11,
   "metadata": {},
   "outputs": [
    {
     "name": "stdout",
     "output_type": "stream",
     "text": [
      "Time Period: After 1pm - Positive Rating Count: 344\n",
      "Time Period: Before 1pm - Positive Rating Count: 313\n"
     ]
    }
   ],
   "source": [
    "query = \"\"\"\n",
    "SELECT \n",
    "    CASE \n",
    "        WHEN EXTRACT(HOUR FROM event_at) < 13 THEN 'Before 1pm'\n",
    "        ELSE 'After 1pm'\n",
    "    END AS time_period,\n",
    "    COUNT(*) AS rating_count\n",
    "FROM rating_interaction\n",
    "JOIN rating ON rating_interaction.rating_id = rating.rating_id\n",
    "WHERE rating.rating_value >= 3\n",
    "GROUP BY time_period\n",
    "ORDER BY rating_count DESC;\n",
    "\"\"\"\n",
    "\n",
    "cursor.execute(query)\n",
    "results = cursor.fetchall()\n",
    "\n",
    "for result in results:\n",
    "    print(f\"\"\"Time Period: {\n",
    "          result['time_period']} - Positive Rating Count: {result['rating_count']}\"\"\")"
   ]
  },
  {
   "cell_type": "markdown",
   "metadata": {},
   "source": [
    "Do Zoology exhibitions get better ratings than other types?"
   ]
  },
  {
   "cell_type": "code",
   "execution_count": 12,
   "metadata": {},
   "outputs": [
    {
     "name": "stdout",
     "output_type": "stream",
     "text": [
      "Department: Zoology - Average Rating: 2.20\n",
      "Department: Entomology - Average Rating: 1.93\n",
      "Department: Geology - Average Rating: 1.92\n",
      "Department: Ecology - Average Rating: 1.22\n"
     ]
    }
   ],
   "source": [
    "query = \"\"\"\n",
    "SELECT department.department_name, AVG(rating.rating_value) AS avg_rating\n",
    "FROM rating_interaction\n",
    "JOIN exhibition ON rating_interaction.exhibition_id = exhibition.exhibition_id\n",
    "JOIN rating ON rating_interaction.rating_id = rating.rating_id\n",
    "JOIN department ON exhibition.department_id = department.department_id\n",
    "GROUP BY department.department_name\n",
    "ORDER BY avg_rating DESC;\n",
    "\"\"\"\n",
    "\n",
    "cursor.execute(query)\n",
    "results = cursor.fetchall()\n",
    "\n",
    "for result in results:\n",
    "    print(f\"\"\"Department: {result['department_name']\n",
    "                           } - Average Rating: {result['avg_rating']:.2f}\"\"\")"
   ]
  }
 ],
 "metadata": {
  "kernelspec": {
   "display_name": ".venv",
   "language": "python",
   "name": "python3"
  },
  "language_info": {
   "codemirror_mode": {
    "name": "ipython",
    "version": 3
   },
   "file_extension": ".py",
   "mimetype": "text/x-python",
   "name": "python",
   "nbconvert_exporter": "python",
   "pygments_lexer": "ipython3",
   "version": "3.12.5"
  }
 },
 "nbformat": 4,
 "nbformat_minor": 2
}
